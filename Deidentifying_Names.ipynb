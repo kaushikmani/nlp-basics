{
 "cells": [
  {
   "cell_type": "code",
   "execution_count": 2,
   "metadata": {},
   "outputs": [],
   "source": [
    "#Removing names from any document, e.g GDPR Compliance\n",
    "\n",
    "import spacy\n",
    "import textacy\n",
    "from spacy import displacy\n",
    "nlp = spacy.load('en_core_web_lg')"
   ]
  },
  {
   "cell_type": "code",
   "execution_count": 3,
   "metadata": {},
   "outputs": [],
   "source": [
    "text = \"Barcelona forward Malcom has described Lionel Messi as a football alien and said he is learning so much just from playing alongside the Argentine. Malcom, 21, moved to the Camp Nou from Bordeaux in the summer for an initial €41 million, scoring his first goal in the 1-1 draw against Inter Milan in the Champions League. Following the departure of Andres Iniesta in the summer, Messi was named Barcelona captain. And Malcom told ESPN Brasil that his skipper is an inspiring figure in the dressing room and has a way of getting the best out of his teammates. A few minutes before starting the match, in the tunnel, he told me that when he gets the ball he will find me, Malcom said. And he does because he's a football alien.\"\n",
    "\n",
    "#Parse the text with spaCy. This runs the entire NLP pipeline.\n",
    "doc = nlp(text)"
   ]
  },
  {
   "cell_type": "code",
   "execution_count": 4,
   "metadata": {},
   "outputs": [
    {
     "name": "stdout",
     "output_type": "stream",
     "text": [
      "Barcelona :  GPE\n",
      "Malcom :  PERSON\n",
      "Lionel Messi :  PERSON\n",
      "Argentine :  NORP\n",
      "Malcom :  PERSON\n",
      "21 :  DATE\n",
      "Bordeaux :  GPE\n",
      "the summer :  DATE\n",
      "€41 million :  MONEY\n",
      "first :  ORDINAL\n",
      "1 :  CARDINAL\n",
      "Inter Milan :  ORG\n",
      "the Champions League :  ORG\n",
      "Andres Iniesta :  PERSON\n",
      "the summer :  DATE\n",
      "Messi :  PERSON\n",
      "Barcelona :  GPE\n",
      "Malcom :  PERSON\n",
      "ESPN :  ORG\n",
      "Brasil :  PERSON\n",
      "A few minutes :  TIME\n",
      "Malcom :  PERSON\n"
     ]
    }
   ],
   "source": [
    "#Print all the named entities detected\n",
    "for entity in doc.ents:\n",
    "    print(entity.text,\": \",entity.label_)"
   ]
  },
  {
   "cell_type": "code",
   "execution_count": 5,
   "metadata": {},
   "outputs": [
    {
     "name": "stdout",
     "output_type": "stream",
     "text": [
      "(Barcelona, Malcom, Lionel Messi, Argentine, Malcom, 21, Bordeaux, the summer, €41 million, first, 1, Inter Milan, the Champions League, Andres Iniesta, the summer, Messi, Barcelona, Malcom, ESPN, Brasil, A few minutes, Malcom)\n"
     ]
    }
   ],
   "source": [
    "print(doc.ents)"
   ]
  },
  {
   "cell_type": "code",
   "execution_count": 6,
   "metadata": {},
   "outputs": [
    {
     "data": {
      "text/plain": [
       "'PERSON'"
      ]
     },
     "execution_count": 6,
     "metadata": {},
     "output_type": "execute_result"
    }
   ],
   "source": [
    "entity.label_"
   ]
  },
  {
   "cell_type": "code",
   "execution_count": 7,
   "metadata": {},
   "outputs": [
    {
     "data": {
      "text/plain": [
       "'Countries, cities, states'"
      ]
     },
     "execution_count": 7,
     "metadata": {},
     "output_type": "execute_result"
    }
   ],
   "source": [
    "spacy.explain('GPE')"
   ]
  },
  {
   "cell_type": "code",
   "execution_count": 8,
   "metadata": {},
   "outputs": [
    {
     "data": {
      "text/plain": [
       "'\"first\", \"second\", etc.'"
      ]
     },
     "execution_count": 8,
     "metadata": {},
     "output_type": "execute_result"
    }
   ],
   "source": [
    "spacy.explain('ORDINAL')"
   ]
  },
  {
   "cell_type": "code",
   "execution_count": 9,
   "metadata": {},
   "outputs": [],
   "source": [
    "def deidentify_names(text):\n",
    "    doc = nlp(text)\n",
    "    deidentified_sentence = []\n",
    "    for token in doc:\n",
    "        if(token.ent_type_ == \"PERSON\"):\n",
    "            deidentified_sentence.append(\"[DEIDENTIFIED]\")\n",
    "        else:\n",
    "            deidentified_sentence.append(token.string)\n",
    "    return \"\".join(deidentified_sentence)"
   ]
  },
  {
   "cell_type": "code",
   "execution_count": 10,
   "metadata": {},
   "outputs": [
    {
     "data": {
      "text/plain": [
       "\"Barcelona forward [DEIDENTIFIED]has described [DEIDENTIFIED][DEIDENTIFIED]as a football alien and said he is learning so much just from playing alongside the Argentine. [DEIDENTIFIED], 21, moved to the Camp Nou from Bordeaux in the summer for an initial €41 million, scoring his first goal in the 1-1 draw against Inter Milan in the Champions League. Following the departure of [DEIDENTIFIED][DEIDENTIFIED]in the summer, [DEIDENTIFIED]was named Barcelona captain. And [DEIDENTIFIED]told ESPN [DEIDENTIFIED]that his skipper is an inspiring figure in the dressing room and has a way of getting the best out of his teammates. A few minutes before starting the match, in the tunnel, he told me that when he gets the ball he will find me, [DEIDENTIFIED]said. And he does because he's a football alien.\""
      ]
     },
     "execution_count": 10,
     "metadata": {},
     "output_type": "execute_result"
    }
   ],
   "source": [
    "deidentify_names(text)"
   ]
  },
  {
   "cell_type": "code",
   "execution_count": 11,
   "metadata": {},
   "outputs": [],
   "source": [
    "#Two consecutive deidentified means two words in a name. Merging that to one.\n",
    "def deidentify_names(text):\n",
    "    doc = nlp(text)\n",
    "    deidentified_sentence = []\n",
    "    for ent in doc.ents:\n",
    "        ent.merge()\n",
    "    for token in doc:\n",
    "        if(token.ent_type_ == \"PERSON\"):\n",
    "            deidentified_sentence.append(\"[DEIDENTIFIED]\")\n",
    "        else:\n",
    "            deidentified_sentence.append(token.string)\n",
    "    return \"\".join(deidentified_sentence)"
   ]
  },
  {
   "cell_type": "code",
   "execution_count": 12,
   "metadata": {},
   "outputs": [
    {
     "data": {
      "text/plain": [
       "\"Barcelona forward [DEIDENTIFIED]has described [DEIDENTIFIED]as a football alien and said he is learning so much just from playing alongside the Argentine. [DEIDENTIFIED], 21, moved to the Camp Nou from Bordeaux in the summer for an initial €41 million, scoring his first goal in the 1-1 draw against Inter Milan in the Champions League. Following the departure of [DEIDENTIFIED]in the summer, [DEIDENTIFIED]was named Barcelona captain. And [DEIDENTIFIED]told ESPN [DEIDENTIFIED]that his skipper is an inspiring figure in the dressing room and has a way of getting the best out of his teammates. A few minutes before starting the match, in the tunnel, he told me that when he gets the ball he will find me, [DEIDENTIFIED]said. And he does because he's a football alien.\""
      ]
     },
     "execution_count": 12,
     "metadata": {},
     "output_type": "execute_result"
    }
   ],
   "source": [
    "deidentify_names(text)"
   ]
  },
  {
   "cell_type": "code",
   "execution_count": null,
   "metadata": {},
   "outputs": [],
   "source": []
  }
 ],
 "metadata": {
  "kernelspec": {
   "display_name": "Python 3",
   "language": "python",
   "name": "python3"
  },
  "language_info": {
   "codemirror_mode": {
    "name": "ipython",
    "version": 3
   },
   "file_extension": ".py",
   "mimetype": "text/x-python",
   "name": "python",
   "nbconvert_exporter": "python",
   "pygments_lexer": "ipython3",
   "version": "3.6.5"
  }
 },
 "nbformat": 4,
 "nbformat_minor": 2
}
