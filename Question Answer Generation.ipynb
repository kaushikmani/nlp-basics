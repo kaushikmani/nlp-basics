{
 "cells": [
  {
   "cell_type": "markdown",
   "metadata": {},
   "source": [
    "# Automatic Question Generation\n",
    "\n",
    "Given a sentence, can you convert the sentence to a question?\n"
   ]
  },
  {
   "cell_type": "code",
   "execution_count": 64,
   "metadata": {},
   "outputs": [],
   "source": [
    "import spacy\n",
    "import textacy\n",
    "from spacy import displacy\n",
    "\n",
    "nlp = spacy.load('en_core_web_lg')\n",
    "\n",
    "example_text = \"FCBarcelona is a football team. Messi plays for FCBarcelona.\"\n",
    "doc = nlp(example_text)\n"
   ]
  },
  {
   "cell_type": "code",
   "execution_count": 65,
   "metadata": {},
   "outputs": [
    {
     "name": "stdout",
     "output_type": "stream",
     "text": [
      "Sentence  0 :  FCBarcelona\n",
      "Sentence  0 :  a football team\n",
      "Sentence  1 :  Messi\n",
      "Sentence  1 :  FCBarcelona\n"
     ]
    }
   ],
   "source": [
    "#Get noun chunks - Short phrases describing a Noun\n",
    "for i, sentence in enumerate(doc.sents):\n",
    "    for noun in sentence.noun_chunks:\n",
    "        print(\"Sentence \",i,\": \",noun)"
   ]
  },
  {
   "cell_type": "code",
   "execution_count": 66,
   "metadata": {},
   "outputs": [
    {
     "name": "stdout",
     "output_type": "stream",
     "text": [
      "FCBarcelona PROPN NNP\n",
      "is VERB VBZ\n",
      "a DET DT\n",
      "football NOUN NN\n",
      "team NOUN NN\n",
      ". PUNCT .\n",
      "Messi PROPN NNP\n",
      "plays VERB VBZ\n",
      "for ADP IN\n",
      "FCBarcelona PROPN NNP\n",
      ". PUNCT .\n"
     ]
    }
   ],
   "source": [
    "for token in doc:\n",
    "    print(token, token.pos_, token.tag_)"
   ]
  },
  {
   "cell_type": "code",
   "execution_count": 67,
   "metadata": {},
   "outputs": [],
   "source": [
    "#Create a ruleset using a dictonary\n",
    "ruleset = [\n",
    "    {\n",
    "        'id': 1,\n",
    "        'req_tags': ['NNP','VBZ','NN']\n",
    "    },\n",
    "    {\n",
    "        'id': 2,\n",
    "        'req_tags': ['NNP','VBZ','NNP']\n",
    "    }   \n",
    "]"
   ]
  },
  {
   "cell_type": "code",
   "execution_count": 68,
   "metadata": {},
   "outputs": [
    {
     "name": "stdout",
     "output_type": "stream",
     "text": [
      "[{'id': 1, 'req_tags': ['NNP', 'VBZ', 'NN']}, {'id': 2, 'req_tags': ['NNP', 'VBZ', 'NNP']}]\n"
     ]
    }
   ],
   "source": [
    "print(ruleset)"
   ]
  },
  {
   "cell_type": "code",
   "execution_count": 69,
   "metadata": {},
   "outputs": [],
   "source": [
    "def get_pos_tag(doc, tag):\n",
    "    return [token for token in doc if token.tag_ == tag]"
   ]
  },
  {
   "cell_type": "code",
   "execution_count": 70,
   "metadata": {},
   "outputs": [],
   "source": [
    "#Here, I consider only very simple use case of simple questions, so ignoring rest of the NNP\n",
    "#Also, we need to create more rulesets for When, Where questions!\n",
    "def sent_to_ques(sentence):\n",
    "    #Return a question string corresponding to a sentence string using a set of pre-written rules\n",
    "    \n",
    "    doc = nlp(sentence)\n",
    "    pos_tags = [token.tag_ for token in doc]\n",
    "    for i, rule in enumerate(ruleset):\n",
    "        if rule['id'] == 1:\n",
    "            if all(key in pos_tags for key in rule['req_tags']):\n",
    "                print(\"Rule id \",rule['id'],\"matched for the sentence: \",sentence)\n",
    "                NNP = get_pos_tag(doc,\"NNP\")\n",
    "                NNP = str(NNP[0])\n",
    "                VBZ = get_pos_tag(doc,\"VBZ\")\n",
    "                VBZ = str(VBZ[0])\n",
    "                ques = 'What ' + VBZ + ' ' + NNP + '?'\n",
    "                return ques\n",
    "        if rule['id'] == 2:\n",
    "            if all(key in pos_tags for key in rule['req_tags']):\n",
    "                print(\"Rule id \",rule['id'],\"matched for the sentence: \",sentence)\n",
    "                NNP = get_post_tag(doc,\"NNP\")\n",
    "                NNP = str(NNP[1])\n",
    "                VBZ = get_pos_tag(doc,\"VBZ\")\n",
    "                VBZ = str(VBZ[0])\n",
    "                ques = 'Who ' + VBZ + ' for ' + NNP + '?'\n",
    "                return ques"
   ]
  },
  {
   "cell_type": "code",
   "execution_count": 71,
   "metadata": {},
   "outputs": [
    {
     "name": "stdout",
     "output_type": "stream",
     "text": [
      "Rule id  1 matched for the sentence:  FCBarcelona is a football team.\n",
      "Generated question is: What is FCBarcelona?\n",
      "Rule id  2 matched for the sentence:  Messi plays for FCBarcelona.\n",
      "Generated question is: Who plays for FCBarcelona?\n"
     ]
    }
   ],
   "source": [
    "for sent in doc.sents:\n",
    "    print(\"Generated question is:\", sent_to_ques(str(sent)))"
   ]
  }
 ],
 "metadata": {
  "kernelspec": {
   "display_name": "Python 3",
   "language": "python",
   "name": "python3"
  },
  "language_info": {
   "codemirror_mode": {
    "name": "ipython",
    "version": 3
   },
   "file_extension": ".py",
   "mimetype": "text/x-python",
   "name": "python",
   "nbconvert_exporter": "python",
   "pygments_lexer": "ipython3",
   "version": "3.6.5"
  }
 },
 "nbformat": 4,
 "nbformat_minor": 2
}
